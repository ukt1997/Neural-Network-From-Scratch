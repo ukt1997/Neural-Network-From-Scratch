{
 "cells": [
  {
   "cell_type": "code",
   "execution_count": 1,
   "metadata": {},
   "outputs": [],
   "source": [
    "import numpy as np\n",
    "import random"
   ]
  },
  {
   "cell_type": "code",
   "execution_count": 3,
   "metadata": {},
   "outputs": [],
   "source": [
    "file = open(\"SLP_Sheet1.csv\",\"r\")\n",
    "data = []\n",
    "for line in file:\n",
    "    cur = line.strip().split(',')\n",
    "    data.append(cur)\n",
    "    "
   ]
  },
  {
   "cell_type": "code",
   "execution_count": 5,
   "metadata": {},
   "outputs": [],
   "source": [
    "no_of_fet = 2\n",
    "no_of_cl = 2"
   ]
  },
  {
   "cell_type": "code",
   "execution_count": 7,
   "metadata": {},
   "outputs": [],
   "source": [
    "X=[]\n",
    "Y = []\n",
    "random.shuffle(data)\n",
    "for cur in data:\n",
    "    u = [1]\n",
    "    v = []\n",
    "    for i in range(no_of_fet):\n",
    "        u.append(float(cur[i]))\n",
    "    for i in range(no_of_cl):\n",
    "        v.append(float(cur[no_of_fet+i]))\n",
    "    X.append(u)\n",
    "    Y.append(v)\n",
    "X = np.array(X)\n",
    "Y = np.array(Y)"
   ]
  },
  {
   "cell_type": "code",
   "execution_count": 8,
   "metadata": {},
   "outputs": [
    {
     "data": {
      "text/plain": [
       "(160, 3)"
      ]
     },
     "execution_count": 8,
     "metadata": {},
     "output_type": "execute_result"
    }
   ],
   "source": [
    "X.shape"
   ]
  },
  {
   "cell_type": "code",
   "execution_count": 9,
   "metadata": {},
   "outputs": [
    {
     "data": {
      "text/plain": [
       "(160, 2)"
      ]
     },
     "execution_count": 9,
     "metadata": {},
     "output_type": "execute_result"
    }
   ],
   "source": [
    "Y.shape"
   ]
  },
  {
   "cell_type": "code",
   "execution_count": 16,
   "metadata": {},
   "outputs": [],
   "source": [
    "def sigmoid(A):\n",
    "    for i in range(A.shape[0]):\n",
    "        for j in range(A.shape[1]):\n",
    "            A[i][j] = 1/(1+np.exp(-A[i][j]))\n",
    "    return A"
   ]
  },
  {
   "cell_type": "code",
   "execution_count": 17,
   "metadata": {},
   "outputs": [],
   "source": [
    "def der_sig(A):\n",
    "    for i in range(A.shape[0]):\n",
    "        for j in range(A.shape[1]):\n",
    "            A[i][j] = (-1*np.exp(-A[i][j]))/((1+np.exp(-A[i][j]))*(1+np.exp(-A[i][j])))\n",
    "    return A"
   ]
  },
  {
   "cell_type": "code",
   "execution_count": 20,
   "metadata": {},
   "outputs": [],
   "source": [
    "def init_W():\n",
    "    W = np.zeros((no_of_fet+1,no_of_cl))\n",
    "    for i in range(W.shape[0]):\n",
    "        for j in range(W.shape[1]):\n",
    "            W[i][j] = random.random()\n",
    "    return W"
   ]
  },
  {
   "cell_type": "code",
   "execution_count": 21,
   "metadata": {},
   "outputs": [
    {
     "data": {
      "text/plain": [
       "array([[0.26108817, 0.52852131],\n",
       "       [0.63679086, 0.69223349],\n",
       "       [0.9857764 , 0.56381918]])"
      ]
     },
     "execution_count": 21,
     "metadata": {},
     "output_type": "execute_result"
    }
   ],
   "source": [
    "init_W()"
   ]
  },
  {
   "cell_type": "code",
   "execution_count": 36,
   "metadata": {},
   "outputs": [],
   "source": [
    "def Correct_count(Y_new,Y):\n",
    "    count = 0\n",
    "    for i in range(Y.shape[0]):\n",
    "        if(Y[i][0] == 1 and Y_new[i][0] >= Y_new[i][1]):\n",
    "            count = count + 1\n",
    "        if(Y[i][1] == 1 and Y_new[i][0] < Y_new[i][1]):\n",
    "            count = count + 1\n",
    "    #print(\"correct count = \",count)\n",
    "    return count"
   ]
  },
  {
   "cell_type": "code",
   "execution_count": 37,
   "metadata": {},
   "outputs": [],
   "source": [
    "def train(X,Y,ep,LR):\n",
    "    W = init_W()\n",
    "    for i in range(ep):\n",
    "        Z = np.dot(X,W)\n",
    "        Y_new = sigmoid(Z)\n",
    "        correct =  Correct_count(Y_new,Y)\n",
    "        if i%100 == 0: print(\"correct count at i = \",i,\" = \",correct)\n",
    "        DA = Y_new - Y\n",
    "        DZ = np.multiply(DA,der_sig(Z))\n",
    "        DW = (1/X.shape[0])*np.dot(X.T,DZ)\n",
    "        W = W + LR*DW\n",
    "    return W\n",
    "        "
   ]
  },
  {
   "cell_type": "code",
   "execution_count": 41,
   "metadata": {},
   "outputs": [
    {
     "name": "stdout",
     "output_type": "stream",
     "text": [
      "correct count at i =  0  =  85\n",
      "correct count at i =  100  =  85\n",
      "correct count at i =  200  =  85\n",
      "correct count at i =  300  =  86\n",
      "correct count at i =  400  =  86\n",
      "correct count at i =  500  =  86\n",
      "correct count at i =  600  =  86\n",
      "correct count at i =  700  =  86\n",
      "correct count at i =  800  =  86\n",
      "correct count at i =  900  =  86\n",
      "correct count at i =  1000  =  86\n",
      "correct count at i =  1100  =  87\n",
      "correct count at i =  1200  =  87\n",
      "correct count at i =  1300  =  88\n",
      "correct count at i =  1400  =  88\n",
      "correct count at i =  1500  =  89\n",
      "correct count at i =  1600  =  90\n",
      "correct count at i =  1700  =  93\n",
      "correct count at i =  1800  =  94\n",
      "correct count at i =  1900  =  96\n",
      "correct count at i =  2000  =  98\n",
      "correct count at i =  2100  =  99\n",
      "correct count at i =  2200  =  104\n",
      "correct count at i =  2300  =  105\n",
      "correct count at i =  2400  =  107\n",
      "correct count at i =  2500  =  107\n",
      "correct count at i =  2600  =  107\n",
      "correct count at i =  2700  =  108\n",
      "correct count at i =  2800  =  109\n",
      "correct count at i =  2900  =  110\n",
      "correct count at i =  3000  =  111\n",
      "correct count at i =  3100  =  115\n",
      "correct count at i =  3200  =  118\n",
      "correct count at i =  3300  =  118\n",
      "correct count at i =  3400  =  119\n",
      "correct count at i =  3500  =  121\n",
      "correct count at i =  3600  =  122\n",
      "correct count at i =  3700  =  122\n",
      "correct count at i =  3800  =  122\n",
      "correct count at i =  3900  =  122\n",
      "correct count at i =  4000  =  123\n",
      "correct count at i =  4100  =  123\n",
      "correct count at i =  4200  =  123\n",
      "correct count at i =  4300  =  124\n",
      "correct count at i =  4400  =  125\n",
      "correct count at i =  4500  =  126\n",
      "correct count at i =  4600  =  126\n",
      "correct count at i =  4700  =  126\n",
      "correct count at i =  4800  =  127\n",
      "correct count at i =  4900  =  127\n"
     ]
    }
   ],
   "source": [
    "W_final = train(X,Y,5000,0.0035)"
   ]
  },
  {
   "cell_type": "code",
   "execution_count": null,
   "metadata": {},
   "outputs": [],
   "source": []
  }
 ],
 "metadata": {
  "kernelspec": {
   "display_name": "Python 3",
   "language": "python",
   "name": "python3"
  },
  "language_info": {
   "codemirror_mode": {
    "name": "ipython",
    "version": 3
   },
   "file_extension": ".py",
   "mimetype": "text/x-python",
   "name": "python",
   "nbconvert_exporter": "python",
   "pygments_lexer": "ipython3",
   "version": "3.6.5"
  }
 },
 "nbformat": 4,
 "nbformat_minor": 2
}
